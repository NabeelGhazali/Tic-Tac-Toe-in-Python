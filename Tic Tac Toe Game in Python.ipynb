{
 "cells": [
  {
   "cell_type": "code",
   "execution_count": 28,
   "id": "7f91995a",
   "metadata": {},
   "outputs": [],
   "source": [
    "from IPython.display import clear_output"
   ]
  },
  {
   "cell_type": "markdown",
   "id": "40fcc7c6",
   "metadata": {},
   "source": [
    "### Setting Up a Display Board"
   ]
  },
  {
   "cell_type": "code",
   "execution_count": 29,
   "id": "28775d1d",
   "metadata": {},
   "outputs": [],
   "source": [
    "def disp_board(board):\n",
    "    clear_output()\n",
    "    print('  '+board[7] + \"  |  \" + board[8] +\"  |  \" +board[9])\n",
    "    print('______________')\n",
    "    print('         ')\n",
    "    print('  '+board[4] + \"  |  \" + board[5] +\"  |  \" +board[6])\n",
    "    print('______________')\n",
    "    print('           ')\n",
    "    print('  '+board[1] + \"  |  \" + board[2] +\"  |  \" +board[3])\n",
    "    \n",
    "    "
   ]
  },
  {
   "cell_type": "code",
   "execution_count": 30,
   "id": "06222945",
   "metadata": {},
   "outputs": [
    {
     "name": "stdout",
     "output_type": "stream",
     "text": [
      "  7  |  8  |  9\n",
      "______________\n",
      "         \n",
      "  4  |  5  |  6\n",
      "______________\n",
      "           \n",
      "  1  |  2  |  3\n"
     ]
    }
   ],
   "source": [
    "dummy_board = ['*','1','2','3','4','5','6','7','8','9']\n",
    "disp_board(board_check)"
   ]
  },
  {
   "cell_type": "markdown",
   "id": "46dbba47",
   "metadata": {},
   "source": [
    "### Setting Up Markers"
   ]
  },
  {
   "cell_type": "code",
   "execution_count": 31,
   "id": "96393246",
   "metadata": {},
   "outputs": [],
   "source": [
    "def player_input():\n",
    "    \n",
    "    marker = ''\n",
    "    \n",
    "    while marker != 'X' and marker != 'O':\n",
    "        \n",
    "        marker = input(\"please enter 'X' or 'O' : \").upper()\n",
    "        \n",
    "    if marker == 'X':\n",
    "        return('X', 'O')\n",
    "    else:\n",
    "        return('O', 'X')"
   ]
  },
  {
   "cell_type": "code",
   "execution_count": 32,
   "id": "60e87f16",
   "metadata": {},
   "outputs": [
    {
     "name": "stdout",
     "output_type": "stream",
     "text": [
      "please enter 'X' or 'O' : X\n"
     ]
    },
    {
     "data": {
      "text/plain": [
       "('X', 'O')"
      ]
     },
     "execution_count": 32,
     "metadata": {},
     "output_type": "execute_result"
    }
   ],
   "source": [
    "player_input()"
   ]
  },
  {
   "cell_type": "code",
   "execution_count": 33,
   "id": "09a6824b",
   "metadata": {},
   "outputs": [],
   "source": [
    "def place_marker(board, marker, position):\n",
    "    board[position] = marker\n",
    "    disp_board(board)"
   ]
  },
  {
   "cell_type": "code",
   "execution_count": 34,
   "id": "85d6323a",
   "metadata": {},
   "outputs": [
    {
     "name": "stdout",
     "output_type": "stream",
     "text": [
      "  7  |  8  |  9\n",
      "______________\n",
      "         \n",
      "  X  |  5  |  6\n",
      "______________\n",
      "           \n",
      "  1  |  2  |  3\n"
     ]
    }
   ],
   "source": [
    "place_marker(dummy_board, 'X', 4 )"
   ]
  },
  {
   "cell_type": "markdown",
   "id": "f1e6b20c",
   "metadata": {},
   "source": [
    "### Setting Up Condition for Winning"
   ]
  },
  {
   "cell_type": "code",
   "execution_count": 35,
   "id": "603d45af",
   "metadata": {},
   "outputs": [],
   "source": [
    "def win_check(board, mark):\n",
    "    \n",
    "    return(\n",
    "    \n",
    "    # ALL ROWS\n",
    "    (board[1] == board[2] == board[3] == mark) or\n",
    "    (board[4] == board[5] == board[6] == mark) or\n",
    "    (board[7] == board[8] == board[9] == mark) or\n",
    "    \n",
    "    # ALL COLUMNS\n",
    "    (board[1] == board[4] == board[7] == mark) or\n",
    "    (board[2] == board[5] == board[8] == mark) or\n",
    "    (board[3] == board[6] == board[9] == mark) or\n",
    "    \n",
    "    #ALL DIAGNOLS\n",
    "    (board[1] == board[5] == board[9] == mark) or\n",
    "    (board[3] == board[5] == board[7] == mark)\n",
    "        \n",
    "    )\n",
    "    "
   ]
  },
  {
   "cell_type": "code",
   "execution_count": 36,
   "id": "fa5e7947",
   "metadata": {},
   "outputs": [],
   "source": [
    "import random\n",
    "\n",
    "def choose_first():\n",
    "    \n",
    "    flip  = random.randint(0,1)\n",
    "    \n",
    "    if flip == 0:\n",
    "        return 'Player 1'\n",
    "    \n",
    "    else:\n",
    "        return 'Player 2'"
   ]
  },
  {
   "cell_type": "code",
   "execution_count": 37,
   "id": "51875250",
   "metadata": {},
   "outputs": [],
   "source": [
    "def space_check(board, position):\n",
    "    return board[position] == ''"
   ]
  },
  {
   "cell_type": "code",
   "execution_count": 38,
   "id": "49ddb606",
   "metadata": {},
   "outputs": [],
   "source": [
    "def full_board_check(board):\n",
    "    \n",
    "    for i in range(1,10):\n",
    "        if space_check(board, i):\n",
    "            return False\n",
    "    return True"
   ]
  },
  {
   "cell_type": "code",
   "execution_count": 39,
   "id": "a8763640",
   "metadata": {},
   "outputs": [],
   "source": [
    "def player_choice(board):\n",
    "    \n",
    "    position = 0\n",
    "    \n",
    "    while position not in [1,2,3,4,5,6,7,8,9] or not space_check(board, position):\n",
    "        position = int(input('Choose a position: (1-9)'))\n",
    "        \n",
    "    return position"
   ]
  },
  {
   "cell_type": "code",
   "execution_count": 42,
   "id": "f64fa201",
   "metadata": {},
   "outputs": [
    {
     "name": "stdout",
     "output_type": "stream",
     "text": [
      "Play again? Enter 'Y' for Yes or 'N' for No y\n"
     ]
    },
    {
     "data": {
      "text/plain": [
       "True"
      ]
     },
     "execution_count": 42,
     "metadata": {},
     "output_type": "execute_result"
    }
   ],
   "source": [
    "def replay():\n",
    "    choice = input(\"Play again? Enter 'Y' for Yes or 'N' for No \").lower()\n",
    "    return choice == 'y'\n",
    "replay()"
   ]
  },
  {
   "cell_type": "markdown",
   "id": "be1ce3b2",
   "metadata": {},
   "source": [
    "### Integration"
   ]
  },
  {
   "cell_type": "code",
   "execution_count": 43,
   "id": "b019f6d2",
   "metadata": {},
   "outputs": [
    {
     "name": "stdout",
     "output_type": "stream",
     "text": [
      "  O  |    |  \n",
      "______________\n",
      "         \n",
      "  X  |  O  |  X\n",
      "______________\n",
      "           \n",
      "  O  |  X  |  O\n",
      "Player 2 has won!! \n",
      "Play again? Enter 'Y' for Yes or 'N' for No 8\n"
     ]
    }
   ],
   "source": [
    "print(\"Welcome to Tick Tac Toe\")\n",
    "\n",
    "while True:\n",
    "    \n",
    "    board = ['']*10\n",
    "    marker_p1, marker_p2 = player_input()\n",
    "    \n",
    "    turn = choose_first()\n",
    "    print(turn + \" will go first\")\n",
    "    \n",
    "    play_game = input('Ready to play? y or n? ')\n",
    "    if play_game.lower()  == 'y':\n",
    "        game_on = True\n",
    "    else:\n",
    "        game_on = False\n",
    "        \n",
    "    while game_on:\n",
    "            if turn == 'Player 1':\n",
    "                \n",
    "                disp_board(board)\n",
    "                \n",
    "                position = player_choice(board)\n",
    "                \n",
    "                place_marker(board,marker_p1, position)\n",
    "                \n",
    "                if win_check(board, marker_p1):\n",
    "                    disp_board(board)\n",
    "                    print('Player 1 has won!! ')\n",
    "                    game_on = False\n",
    "                else:\n",
    "                    if full_board_check(board):\n",
    "                        disp_board(board)\n",
    "                        print(\"Tie!! \")\n",
    "                    else:\n",
    "                        turn = 'Player 2'\n",
    "                        \n",
    "            else:\n",
    "                if turn == 'Player 2':\n",
    "                \n",
    "                    disp_board(board)\n",
    "                \n",
    "                    position = player_choice(board)\n",
    "                \n",
    "                    place_marker(board,marker_p2, position)\n",
    "                \n",
    "                    if win_check(board, marker_p2):\n",
    "                        disp_board(board)\n",
    "                        print('Player 2 has won!! ')\n",
    "                        game_on = False\n",
    "                    else:\n",
    "                        if full_board_check(board):\n",
    "                            disp_board(board)\n",
    "                            print(\"Tie!! \")\n",
    "                        else:\n",
    "                            turn = 'Player 1'\n",
    "        \n",
    "        \n",
    "                \n",
    "                \n",
    "    \n",
    "    \n",
    "    \n",
    "    if not replay():\n",
    "        break\n"
   ]
  }
 ],
 "metadata": {
  "kernelspec": {
   "display_name": "Python 3 (ipykernel)",
   "language": "python",
   "name": "python3"
  },
  "language_info": {
   "codemirror_mode": {
    "name": "ipython",
    "version": 3
   },
   "file_extension": ".py",
   "mimetype": "text/x-python",
   "name": "python",
   "nbconvert_exporter": "python",
   "pygments_lexer": "ipython3",
   "version": "3.9.12"
  }
 },
 "nbformat": 4,
 "nbformat_minor": 5
}
